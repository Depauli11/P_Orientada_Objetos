{
 "cells": [
  {
   "cell_type": "code",
   "execution_count": 6,
   "metadata": {},
   "outputs": [
    {
     "name": "stdout",
     "output_type": "stream",
     "text": [
      "False\n",
      "LED\n",
      "True\n",
      "True\n",
      "Fluorescente\n",
      "False\n"
     ]
    }
   ],
   "source": [
    "class Lampada:\n",
    "    def __init__(self, tensao, cor, tecnologia, ligada=False):\n",
    "        self.tensao = tensao\n",
    "        self.cor = cor\n",
    "        self.tecnologia = tecnologia\n",
    "        self.ligada = ligada\n",
    "\n",
    "    def altera_estado(self, ligada):\n",
    "        self.ligada = ligada\n",
    "\n",
    "\n",
    "\n",
    "\n",
    "def main():\n",
    "    \n",
    "    lampada01 = Lampada(220, \"branca\", \"LED\")\n",
    "    print(lampada01.ligada)\n",
    "    print(lampada01.tecnologia)\n",
    "    lampada01.ligada = True #somente funciona por ser um método publico\n",
    "    print(lampada01.ligada)\n",
    "\n",
    "\n",
    "    lampada01 = Lampada(110, \"amarela\", \"Fluorescente\", True)\n",
    "    print(lampada01.ligada)\n",
    "    print(lampada01.tecnologia)\n",
    "    lampada01.altera_estado(False) #jeito certo de alterar um atributo, chamando o método\n",
    "    print(lampada01.ligada)\n",
    "\n",
    "if __name__ == '__main__':\n",
    "    main()"
   ]
  },
  {
   "cell_type": "code",
   "execution_count": 13,
   "metadata": {},
   "outputs": [
    {
     "name": "stdout",
     "output_type": "stream",
     "text": [
      "3\n",
      "6\n"
     ]
    }
   ],
   "source": [
    "class Cor:\n",
    "    def __init__(self, r, g, b):\n",
    "        self.r = r\n",
    "        self.g = g\n",
    "        self.b = b\n",
    "\n",
    "    def muda_b(self, b):\n",
    "        self.b = b\n",
    "\n",
    "\n",
    "def main():\n",
    "    amarelo = Cor(1, 2, 3)\n",
    "    print(amarelo.b)\n",
    "    amarelo.muda_b(6)\n",
    "    print(amarelo.b)\n",
    "\n",
    "\n",
    "if __name__ == '__main__':\n",
    "    main()"
   ]
  },
  {
   "cell_type": "code",
   "execution_count": 14,
   "metadata": {},
   "outputs": [
    {
     "name": "stdout",
     "output_type": "stream",
     "text": [
      "Dell\n",
      "True\n",
      "False\n"
     ]
    }
   ],
   "source": [
    "class Computador:\n",
    "    def __init__(self, marca, velocidade_processador, ano_fabricacao, novo=True):\n",
    "        self.marca = marca\n",
    "        self.velocidade = velocidade_processador\n",
    "        self.ano_fabricacao = ano_fabricacao\n",
    "        self.novo = novo\n",
    "\n",
    "    def altera_novo(self, novo):\n",
    "        self.novo = novo\n",
    "\n",
    "\n",
    "def main():\n",
    "    computador01 = Computador(\"Dell\", \"3.5Ghz\",  \"2023\")\n",
    "    print(computador01.marca)\n",
    "    print(computador01.novo)\n",
    "    computador01.altera_novo(False)\n",
    "    print(computador01.novo)\n",
    "\n",
    "\n",
    "if __name__ == '__main__':\n",
    "    main()"
   ]
  },
  {
   "cell_type": "code",
   "execution_count": 15,
   "metadata": {},
   "outputs": [
    {
     "name": "stdout",
     "output_type": "stream",
     "text": [
      "A goiaba é uma fruta rica em fibras, antioxidantes e vitaminas que ajuda a melhorar a digestão.\n",
      "45\n",
      "23\n"
     ]
    }
   ],
   "source": [
    "class Produto:\n",
    "    def __init__(self, nome, preco, descricao, estoque):\n",
    "        self.nome = nome\n",
    "        self.preco = preco\n",
    "        self.descricao = descricao\n",
    "        self.estoque = estoque\n",
    "\n",
    "    def altera_estoque(self, estoque):\n",
    "        self.estoque = estoque\n",
    "\n",
    "def main():\n",
    "    goiaba01 = Produto(\"goiaba\", 12.90, \"A goiaba é uma fruta rica em fibras, antioxidantes e vitaminas que ajuda a melhorar a digestão.\", 45)\n",
    "    print(goiaba01.descricao)\n",
    "    print(goiaba01.estoque)\n",
    "    goiaba01.altera_estoque(23)\n",
    "    print(goiaba01.estoque)\n",
    "\n",
    "if __name__ == '__main__':\n",
    "    main()"
   ]
  },
  {
   "cell_type": "code",
   "execution_count": null,
   "metadata": {},
   "outputs": [],
   "source": []
  }
 ],
 "metadata": {
  "kernelspec": {
   "display_name": "venv",
   "language": "python",
   "name": "python3"
  },
  "language_info": {
   "codemirror_mode": {
    "name": "ipython",
    "version": 3
   },
   "file_extension": ".py",
   "mimetype": "text/x-python",
   "name": "python",
   "nbconvert_exporter": "python",
   "pygments_lexer": "ipython3",
   "version": "3.11.3"
  }
 },
 "nbformat": 4,
 "nbformat_minor": 2
}
