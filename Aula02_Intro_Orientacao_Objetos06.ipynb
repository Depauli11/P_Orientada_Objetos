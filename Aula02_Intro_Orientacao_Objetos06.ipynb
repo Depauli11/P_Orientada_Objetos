{
 "cells": [
  {
   "cell_type": "markdown",
   "metadata": {},
   "source": [
    "1. Crie um programa que solicite ao usuário o seu nome completo (string), idade (int), altura (float) e peso (float). Salve cada uma dessas informações em linhas separadas de um arquivo texto."
   ]
  },
  {
   "cell_type": "code",
   "execution_count": 1,
   "metadata": {},
   "outputs": [],
   "source": [
    "with open('pessoas_new.csv', 'w') as f:\n",
    "    nome = 'Gabriel' #input(\"Digite seu nome: \")\n",
    "    f.write(nome + '\\n')\n",
    "\n",
    "    idade = '24 '#input(\"Digite sua idade: \")\n",
    "    f.write(idade + '\\n')\n",
    "\n",
    "    altura = '1.73' #input(\"Digite sua altura: \")\n",
    "    f.write(altura + '\\n')\n",
    "\n",
    "    peso = '80' #input(\"Digite seu peso: \")\n",
    "    f.write(peso + '\\n')\n",
    "\n",
    "    f.close()"
   ]
  },
  {
   "cell_type": "code",
   "execution_count": 2,
   "metadata": {},
   "outputs": [
    {
     "name": "stdout",
     "output_type": "stream",
     "text": [
      "Name: Gabriel\n",
      "Age: 24\n",
      "Height: 1.73 cm\n",
      "Weight: 80 kg\n"
     ]
    }
   ],
   "source": [
    "with open('pessoas_new.csv', 'r') as f:\n",
    "    lines = f.readlines()\n",
    "\n",
    "print(\"Name: \" + lines[0].strip())\n",
    "print(\"Age: \" + lines[1].strip())\n",
    "print(\"Height: \" + lines[2].strip() + \" cm\")\n",
    "print(\"Weight: \" + lines[3].strip() + \" kg\")"
   ]
  },
  {
   "cell_type": "code",
   "execution_count": 55,
   "metadata": {},
   "outputs": [],
   "source": [
    "import csv\n",
    "\n",
    "nome = 'Gabriel' #input(\"Digite seu nome: \")\n",
    "idade = '24'#input(\"Digite sua idade: \")\n",
    "altura = '1.73' #input(\"Digite sua altura: \")\n",
    "peso = '80' #input(\"Digite seu peso: \")\n",
    "    \n",
    "data = [['Nome','Idade','Altura','Peso'],[nome,idade,altura,peso]]\n",
    "\n",
    "with open('pessoas_new02.csv', 'w', newline='') as f:\n",
    "    writer = csv.writer(f)\n",
    "    writer.writerows(data)\n"
   ]
  },
  {
   "cell_type": "code",
   "execution_count": 56,
   "metadata": {},
   "outputs": [],
   "source": [
    "import csv\n",
    "\n",
    "def carregar(nomeArquivo):\n",
    "    with open(nomeArquivo, 'r') as f:\n",
    "        reader = csv.reader(f)\n",
    "        reader_list = list(reader)  # Convert reader to a list\n",
    "        data = [[r[0], r[1], r[2], r[3]] for r in reader_list[1::]]\n",
    "    return data\n",
    "\n",
    "def salvar(nomeArquivo, Pessoa):\n",
    "    data = [['Nome','Idade','Altura','Peso'],[Pessoa]]\n",
    "    with open(nomeArquivo, 'w', newline='') as f:\n",
    "        writer = csv.writer(f)\n",
    "        writer.writerows(data)\n",
    "\n",
    "class Pessoa:\n",
    "    def __init__(self, nome, idade, altura, peso):\n",
    "        self.nome = nome\n",
    "        self.idade = idade\n",
    "        self.altura = altura\n",
    "        self.peso = peso\n",
    "\n",
    "    @property\n",
    "    def nome(self):\n",
    "        return self.__nome\n",
    "    \n",
    "    @property\n",
    "    def idade(self):\n",
    "        return self.__idade\n",
    "    \n",
    "    @property\n",
    "    def altura(self):\n",
    "        return self.__altura\n",
    "    \n",
    "    @property\n",
    "    def peso(self):\n",
    "        return self.__peso\n",
    "    \n",
    "    @nome.setter\n",
    "    def nome(self, nome):\n",
    "        self.__nome = nome\n",
    "\n",
    "    @idade.setter\n",
    "    def idade(self, idade):\n",
    "        self.__idade = idade\n",
    "\n",
    "    @altura.setter\n",
    "    def altura(self, altura):\n",
    "        self.__altura = altura\n",
    "\n",
    "    @peso.setter\n",
    "    def peso(self, peso):\n",
    "        self.__peso = peso\n",
    "\n",
    "\n",
    "    def visualizar(self):\n",
    "        print(\"Nome: \" + self.nome)\n",
    "        print(\"Idade: \" + str(self.idade))\n",
    "        print(\"Altura: \" + str(self.altura) + \" cm\")\n",
    "        print(\"Peso: \" + str(self.peso) + \" kg\")\n",
    "\n",
    "    \n",
    "\n",
    "\n",
    "\n",
    "\n",
    "\n",
    "        \n",
    "\n",
    "    \n",
    "        \n",
    "    "
   ]
  },
  {
   "cell_type": "code",
   "execution_count": 58,
   "metadata": {},
   "outputs": [
    {
     "name": "stdout",
     "output_type": "stream",
     "text": [
      "Nome: Gabriel\n",
      "Idade: 24\n",
      "Altura: 1.73 cm\n",
      "Peso: 80 kg\n",
      "Nome: Gabriel\n",
      "Idade: 45\n",
      "Altura: 1.73 cm\n",
      "Peso: 82 kg\n"
     ]
    }
   ],
   "source": [
    "def main():\n",
    "    \n",
    "    data = carregar('pessoas_new02.csv')\n",
    "            \n",
    "    pessoa01 = Pessoa(*data[0])\n",
    "\n",
    "    pessoa01.visualizar()\n",
    "\n",
    "    pessoa01.peso = 82\n",
    "\n",
    "    pessoa01.idade = 45\n",
    "\n",
    "    salvar('pessoas_new02.csv', pessoa01)\n",
    "\n",
    "    pessoa01.visualizar()\n",
    "\n",
    "\n",
    "\n",
    "   \n",
    "    \n",
    "\n",
    "    \n",
    "\n",
    "\n",
    "\n",
    "\n",
    "if __name__ == '__main__':\n",
    "    main()"
   ]
  },
  {
   "cell_type": "code",
   "execution_count": null,
   "metadata": {},
   "outputs": [],
   "source": []
  }
 ],
 "metadata": {
  "kernelspec": {
   "display_name": "venv",
   "language": "python",
   "name": "python3"
  },
  "language_info": {
   "codemirror_mode": {
    "name": "ipython",
    "version": 3
   },
   "file_extension": ".py",
   "mimetype": "text/x-python",
   "name": "python",
   "nbconvert_exporter": "python",
   "pygments_lexer": "ipython3",
   "version": "3.11.3"
  }
 },
 "nbformat": 4,
 "nbformat_minor": 2
}
